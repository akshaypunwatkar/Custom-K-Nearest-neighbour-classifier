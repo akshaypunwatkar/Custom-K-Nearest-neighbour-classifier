{
 "cells": [
  {
   "cell_type": "code",
   "execution_count": null,
   "metadata": {},
   "outputs": [],
   "source": []
  },
  {
   "cell_type": "code",
   "execution_count": 196,
   "metadata": {},
   "outputs": [],
   "source": [
    "# (a) Write your own kNN classifier\n",
    "\n",
    "class Knn:\n",
    "# k-Nearest Neighbor class object for classification training and testing\n",
    "    def __init__(self):\n",
    "        self.X_train = np.array(())\n",
    "        self.y_train = np.array(())\n",
    "        \n",
    "    def fit(self, x, y):\n",
    "        # Save the training data to properties of this class\n",
    "        self.X_train = x.to_numpy()\n",
    "        self.y_train = y.to_numpy()\n",
    "        \n",
    "    def predict(self, x, k):\n",
    "        y_hat = [] # Variable to store the estimated class label for \n",
    "        # Calculate the distance from each vector in x to the training data\n",
    "        x = x.to_numpy()\n",
    "        for i in range(len(x)):\n",
    "            dist_Xx = np.sqrt(np.sum((self.X_train-np.array(x[i]))**2, axis=1))\n",
    "            near_neigh_k = np.argsort(dist_Xx)[:k]\n",
    "            near_neigh = self.y_train[near_neigh_k]\n",
    "            #predicted_y = np.bincount(near_neigh).argmax()  #For only integers y values\n",
    "            val,count = np.unique(near_neigh, return_counts=True)\n",
    "            predicted_y = val[np.argmax(count)]\n",
    "            y_hat.append(predicted_y)\n",
    "        # Return the estimated targets\n",
    "            \n",
    "        return np.array(y_hat)\n",
    "\n",
    "# Metric of overall classification accuracy\n",
    "#  (a more general function, sklearn.metrics.accuracy_score, is also available)\n",
    "def accuracy(y,y_hat):\n",
    "    nvalues = len(y)\n",
    "    accuracy = sum(y == y_hat) / nvalues\n",
    "    return accuracy"
   ]
  },
  {
   "cell_type": "markdown",
   "metadata": {},
   "source": [
    "**(b)**"
   ]
  },
  {
   "cell_type": "code",
   "execution_count": 118,
   "metadata": {},
   "outputs": [],
   "source": [
    "import pandas as pd\n",
    "import time as t\n",
    "\n",
    "#loading dataset\n",
    "\n",
    "#High dimensional dataset\n",
    "X_train_high = pd.read_csv(\"A2_X_train_high.csv\",header=None,index_col=False)\n",
    "y_train_high = pd.read_csv(\"A2_y_train_high.csv\",header=None,index_col=False)\n",
    "X_test_high = pd.read_csv(\"A2_X_test_high.csv\",header=None,index_col=False)\n",
    "y_test_high = pd.read_csv(\"A2_y_test_high.csv\",header=None,index_col=False)\n",
    "\n",
    "#Low dimensional dataset\n",
    "X_train_low = pd.read_csv(\"A2_X_train_low.csv\",header=None,index_col=False)\n",
    "y_train_low = pd.read_csv(\"A2_y_train_low.csv\",header=None,index_col=False)\n",
    "X_test_low = pd.read_csv(\"A2_X_test_low.csv\",header=None,index_col=False)\n",
    "y_test_low = pd.read_csv(\"A2_y_test_low.csv\",header=None,index_col=False)\n"
   ]
  },
  {
   "cell_type": "markdown",
   "metadata": {},
   "source": [
    "**(c)**"
   ]
  },
  {
   "cell_type": "code",
   "execution_count": 198,
   "metadata": {},
   "outputs": [
    {
     "name": "stdout",
     "output_type": "stream",
     "text": [
      "\n",
      "Model runtime for LOW dimensional : 0.116 seconds, with an accuracy of 92.5 percent.\n"
     ]
    }
   ],
   "source": [
    "classifier = Knn()\n",
    "#fitting low dimensional dataset\n",
    "s_time = t.time()\n",
    "classifier.fit(X_train_low,y_train_low)\n",
    "pred_low = classifier.predict(X_test_low,5)  \n",
    "e_time = t.time()\n",
    "\n",
    "model_acc = accuracy(y_test_low[0],pred_low)\n",
    "\n",
    "print(\"\\nModel runtime for LOW dimensional : %s seconds, with an accuracy of %s percent.\"%(round(e_time-s_time,3),model_acc*100))"
   ]
  },
  {
   "cell_type": "code",
   "execution_count": 199,
   "metadata": {},
   "outputs": [
    {
     "name": "stdout",
     "output_type": "stream",
     "text": [
      "\n",
      "Model runtime for HIGH dimensional : 0.279 seconds, with an accuracy of 99.3 percent.\n"
     ]
    }
   ],
   "source": [
    "s_time = t.time()\n",
    "classifier.fit(X_train_high,y_train_high)\n",
    "pred_high = classifier.predict(X_test_high,5)  \n",
    "e_time = t.time()\n",
    "\n",
    "model_acc = accuracy(y_test_high[0],pred_high)\n",
    "\n",
    "print(\"\\nModel runtime for HIGH dimensional : %s seconds, with an accuracy of %s percent.\"%(round(e_time-s_time,3),model_acc*100))"
   ]
  },
  {
   "cell_type": "markdown",
   "metadata": {},
   "source": [
    "**(d)**"
   ]
  },
  {
   "cell_type": "code",
   "execution_count": 182,
   "metadata": {},
   "outputs": [
    {
     "name": "stdout",
     "output_type": "stream",
     "text": [
      "\n",
      " KNN Model runtime for LOW dimensional : 0.03 seconds, with an accuracy of 92.5 percent.\n"
     ]
    }
   ],
   "source": [
    "from sklearn.neighbors import KNeighborsClassifier\n",
    "from sklearn.metrics import accuracy_score\n",
    "\n",
    "s_time = t.time()\n",
    "knn_class = KNeighborsClassifier(n_neighbors=5)\n",
    "knn_class.fit(X_train_low,y_train_low[0])\n",
    "knn_pred_low = knn_class.predict(X_test_low)\n",
    "e_time = t.time()\n",
    "\n",
    "knn_acc = accuracy_score(y_test_low,knn_pred_low)\n",
    "\n",
    "print(\"\\n KNN Model runtime for LOW dimensional : %s seconds, with an accuracy of %s percent.\"%(round(e_time-s_time,3),knn_acc*100))"
   ]
  },
  {
   "cell_type": "code",
   "execution_count": 183,
   "metadata": {},
   "outputs": [
    {
     "name": "stdout",
     "output_type": "stream",
     "text": [
      "\n",
      " KNN Model runtime for HIGH dimensional : 0.192 seconds, with an accuracy of 99.3 percent.\n"
     ]
    }
   ],
   "source": [
    "s_time = t.time()\n",
    "knn_class = KNeighborsClassifier(n_neighbors=5)\n",
    "knn_class.fit(X_train_high,y_train_high[0])\n",
    "knn_pred_high = knn_class.predict(X_test_high)\n",
    "e_time = t.time()\n",
    "\n",
    "knn_acc = accuracy_score(y_test_low,knn_pred_high)\n",
    "\n",
    "print(\"\\n KNN Model runtime for HIGH dimensional : %s seconds, with an accuracy of %s percent.\"%(round(e_time-s_time,3),knn_acc*100))"
   ]
  }
 ],
 "metadata": {
  "kernelspec": {
   "display_name": "Python 3",
   "language": "python",
   "name": "python3"
  },
  "language_info": {
   "codemirror_mode": {
    "name": "ipython",
    "version": 3
   },
   "file_extension": ".py",
   "mimetype": "text/x-python",
   "name": "python",
   "nbconvert_exporter": "python",
   "pygments_lexer": "ipython3",
   "version": "3.7.3"
  },
  "varInspector": {
   "cols": {
    "lenName": 16,
    "lenType": 16,
    "lenVar": 40
   },
   "kernels_config": {
    "python": {
     "delete_cmd_postfix": "",
     "delete_cmd_prefix": "del ",
     "library": "var_list.py",
     "varRefreshCmd": "print(var_dic_list())"
    },
    "r": {
     "delete_cmd_postfix": ") ",
     "delete_cmd_prefix": "rm(",
     "library": "var_list.r",
     "varRefreshCmd": "cat(var_dic_list()) "
    }
   },
   "types_to_exclude": [
    "module",
    "function",
    "builtin_function_or_method",
    "instance",
    "_Feature"
   ],
   "window_display": false
  }
 },
 "nbformat": 4,
 "nbformat_minor": 4
}
